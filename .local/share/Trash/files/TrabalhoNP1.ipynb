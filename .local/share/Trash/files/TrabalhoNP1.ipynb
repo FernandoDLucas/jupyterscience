{
 "cells": [
  {
   "cell_type": "code",
   "execution_count": 58,
   "id": "suspected-basket",
   "metadata": {},
   "outputs": [],
   "source": [
    "import pandas as pd\n",
    "import numpy as np\n",
    "import datetime as dt\n",
    "import matplotlib.pyplot as plot"
   ]
  },
  {
   "cell_type": "code",
   "execution_count": 59,
   "id": "regular-librarian",
   "metadata": {},
   "outputs": [],
   "source": [
    "file = pd.read_csv('Consumo_cerveja.csv')"
   ]
  },
  {
   "cell_type": "code",
   "execution_count": 60,
   "id": "inner-tracker",
   "metadata": {},
   "outputs": [
    {
     "data": {
      "text/html": [
       "<div>\n",
       "<style scoped>\n",
       "    .dataframe tbody tr th:only-of-type {\n",
       "        vertical-align: middle;\n",
       "    }\n",
       "\n",
       "    .dataframe tbody tr th {\n",
       "        vertical-align: top;\n",
       "    }\n",
       "\n",
       "    .dataframe thead th {\n",
       "        text-align: right;\n",
       "    }\n",
       "</style>\n",
       "<table border=\"1\" class=\"dataframe\">\n",
       "  <thead>\n",
       "    <tr style=\"text-align: right;\">\n",
       "      <th></th>\n",
       "      <th>Data</th>\n",
       "      <th>Temperatura Media (C)</th>\n",
       "      <th>Temperatura Minima (C)</th>\n",
       "      <th>Temperatura Maxima (C)</th>\n",
       "      <th>Precipitacao (mm)</th>\n",
       "      <th>Final de Semana</th>\n",
       "      <th>Consumo de cerveja (litros)</th>\n",
       "    </tr>\n",
       "  </thead>\n",
       "  <tbody>\n",
       "    <tr>\n",
       "      <th>0</th>\n",
       "      <td>2015-01-01</td>\n",
       "      <td>27,3</td>\n",
       "      <td>23,9</td>\n",
       "      <td>32,5</td>\n",
       "      <td>0</td>\n",
       "      <td>0.0</td>\n",
       "      <td>25.461</td>\n",
       "    </tr>\n",
       "    <tr>\n",
       "      <th>1</th>\n",
       "      <td>2015-01-02</td>\n",
       "      <td>27,02</td>\n",
       "      <td>24,5</td>\n",
       "      <td>33,5</td>\n",
       "      <td>0</td>\n",
       "      <td>0.0</td>\n",
       "      <td>28.972</td>\n",
       "    </tr>\n",
       "    <tr>\n",
       "      <th>2</th>\n",
       "      <td>2015-01-03</td>\n",
       "      <td>24,82</td>\n",
       "      <td>22,4</td>\n",
       "      <td>29,9</td>\n",
       "      <td>0</td>\n",
       "      <td>1.0</td>\n",
       "      <td>30.814</td>\n",
       "    </tr>\n",
       "    <tr>\n",
       "      <th>3</th>\n",
       "      <td>2015-01-04</td>\n",
       "      <td>23,98</td>\n",
       "      <td>21,5</td>\n",
       "      <td>28,6</td>\n",
       "      <td>1,2</td>\n",
       "      <td>1.0</td>\n",
       "      <td>29.799</td>\n",
       "    </tr>\n",
       "    <tr>\n",
       "      <th>4</th>\n",
       "      <td>2015-01-05</td>\n",
       "      <td>23,82</td>\n",
       "      <td>21</td>\n",
       "      <td>28,3</td>\n",
       "      <td>0</td>\n",
       "      <td>0.0</td>\n",
       "      <td>28.900</td>\n",
       "    </tr>\n",
       "    <tr>\n",
       "      <th>...</th>\n",
       "      <td>...</td>\n",
       "      <td>...</td>\n",
       "      <td>...</td>\n",
       "      <td>...</td>\n",
       "      <td>...</td>\n",
       "      <td>...</td>\n",
       "      <td>...</td>\n",
       "    </tr>\n",
       "    <tr>\n",
       "      <th>936</th>\n",
       "      <td>NaN</td>\n",
       "      <td>NaN</td>\n",
       "      <td>NaN</td>\n",
       "      <td>NaN</td>\n",
       "      <td>NaN</td>\n",
       "      <td>NaN</td>\n",
       "      <td>NaN</td>\n",
       "    </tr>\n",
       "    <tr>\n",
       "      <th>937</th>\n",
       "      <td>NaN</td>\n",
       "      <td>NaN</td>\n",
       "      <td>NaN</td>\n",
       "      <td>NaN</td>\n",
       "      <td>NaN</td>\n",
       "      <td>NaN</td>\n",
       "      <td>NaN</td>\n",
       "    </tr>\n",
       "    <tr>\n",
       "      <th>938</th>\n",
       "      <td>NaN</td>\n",
       "      <td>NaN</td>\n",
       "      <td>NaN</td>\n",
       "      <td>NaN</td>\n",
       "      <td>NaN</td>\n",
       "      <td>NaN</td>\n",
       "      <td>NaN</td>\n",
       "    </tr>\n",
       "    <tr>\n",
       "      <th>939</th>\n",
       "      <td>NaN</td>\n",
       "      <td>NaN</td>\n",
       "      <td>NaN</td>\n",
       "      <td>NaN</td>\n",
       "      <td>NaN</td>\n",
       "      <td>NaN</td>\n",
       "      <td>NaN</td>\n",
       "    </tr>\n",
       "    <tr>\n",
       "      <th>940</th>\n",
       "      <td>NaN</td>\n",
       "      <td>NaN</td>\n",
       "      <td>NaN</td>\n",
       "      <td>NaN</td>\n",
       "      <td>NaN</td>\n",
       "      <td>NaN</td>\n",
       "      <td>NaN</td>\n",
       "    </tr>\n",
       "  </tbody>\n",
       "</table>\n",
       "<p>941 rows × 7 columns</p>\n",
       "</div>"
      ],
      "text/plain": [
       "           Data Temperatura Media (C) Temperatura Minima (C)  \\\n",
       "0    2015-01-01                  27,3                   23,9   \n",
       "1    2015-01-02                 27,02                   24,5   \n",
       "2    2015-01-03                 24,82                   22,4   \n",
       "3    2015-01-04                 23,98                   21,5   \n",
       "4    2015-01-05                 23,82                     21   \n",
       "..          ...                   ...                    ...   \n",
       "936         NaN                   NaN                    NaN   \n",
       "937         NaN                   NaN                    NaN   \n",
       "938         NaN                   NaN                    NaN   \n",
       "939         NaN                   NaN                    NaN   \n",
       "940         NaN                   NaN                    NaN   \n",
       "\n",
       "    Temperatura Maxima (C) Precipitacao (mm)  Final de Semana  \\\n",
       "0                     32,5                 0              0.0   \n",
       "1                     33,5                 0              0.0   \n",
       "2                     29,9                 0              1.0   \n",
       "3                     28,6               1,2              1.0   \n",
       "4                     28,3                 0              0.0   \n",
       "..                     ...               ...              ...   \n",
       "936                    NaN               NaN              NaN   \n",
       "937                    NaN               NaN              NaN   \n",
       "938                    NaN               NaN              NaN   \n",
       "939                    NaN               NaN              NaN   \n",
       "940                    NaN               NaN              NaN   \n",
       "\n",
       "     Consumo de cerveja (litros)  \n",
       "0                         25.461  \n",
       "1                         28.972  \n",
       "2                         30.814  \n",
       "3                         29.799  \n",
       "4                         28.900  \n",
       "..                           ...  \n",
       "936                          NaN  \n",
       "937                          NaN  \n",
       "938                          NaN  \n",
       "939                          NaN  \n",
       "940                          NaN  \n",
       "\n",
       "[941 rows x 7 columns]"
      ]
     },
     "execution_count": 60,
     "metadata": {},
     "output_type": "execute_result"
    }
   ],
   "source": [
    "file"
   ]
  },
  {
   "cell_type": "code",
   "execution_count": 61,
   "id": "preceding-mechanism",
   "metadata": {},
   "outputs": [],
   "source": [
    "file['Data'] = pd.to_datetime(file['Data'])"
   ]
  },
  {
   "cell_type": "code",
   "execution_count": 62,
   "id": "virgin-davis",
   "metadata": {},
   "outputs": [],
   "source": [
    "file[\"Dia da Semana\"] = file[\"Data\"].dt.day_name()"
   ]
  },
  {
   "cell_type": "code",
   "execution_count": 71,
   "id": "moved-subdivision",
   "metadata": {},
   "outputs": [],
   "source": [
    "file[\"Mês\"] = file[\"Data\"].dt.month"
   ]
  },
  {
   "cell_type": "code",
   "execution_count": 72,
   "id": "velvet-curve",
   "metadata": {},
   "outputs": [
    {
     "data": {
      "text/html": [
       "<div>\n",
       "<style scoped>\n",
       "    .dataframe tbody tr th:only-of-type {\n",
       "        vertical-align: middle;\n",
       "    }\n",
       "\n",
       "    .dataframe tbody tr th {\n",
       "        vertical-align: top;\n",
       "    }\n",
       "\n",
       "    .dataframe thead th {\n",
       "        text-align: right;\n",
       "    }\n",
       "</style>\n",
       "<table border=\"1\" class=\"dataframe\">\n",
       "  <thead>\n",
       "    <tr style=\"text-align: right;\">\n",
       "      <th></th>\n",
       "      <th>Data</th>\n",
       "      <th>Temperatura Media (C)</th>\n",
       "      <th>Temperatura Minima (C)</th>\n",
       "      <th>Temperatura Maxima (C)</th>\n",
       "      <th>Precipitacao (mm)</th>\n",
       "      <th>Final de Semana</th>\n",
       "      <th>Consumo de cerveja (litros)</th>\n",
       "      <th>Dia da Semana</th>\n",
       "      <th>Mês</th>\n",
       "    </tr>\n",
       "  </thead>\n",
       "  <tbody>\n",
       "    <tr>\n",
       "      <th>0</th>\n",
       "      <td>2015-01-01</td>\n",
       "      <td>27,3</td>\n",
       "      <td>23,9</td>\n",
       "      <td>32,5</td>\n",
       "      <td>0</td>\n",
       "      <td>0.0</td>\n",
       "      <td>25.461</td>\n",
       "      <td>Thursday</td>\n",
       "      <td>1.0</td>\n",
       "    </tr>\n",
       "    <tr>\n",
       "      <th>1</th>\n",
       "      <td>2015-01-02</td>\n",
       "      <td>27,02</td>\n",
       "      <td>24,5</td>\n",
       "      <td>33,5</td>\n",
       "      <td>0</td>\n",
       "      <td>0.0</td>\n",
       "      <td>28.972</td>\n",
       "      <td>Friday</td>\n",
       "      <td>1.0</td>\n",
       "    </tr>\n",
       "    <tr>\n",
       "      <th>2</th>\n",
       "      <td>2015-01-03</td>\n",
       "      <td>24,82</td>\n",
       "      <td>22,4</td>\n",
       "      <td>29,9</td>\n",
       "      <td>0</td>\n",
       "      <td>1.0</td>\n",
       "      <td>30.814</td>\n",
       "      <td>Saturday</td>\n",
       "      <td>1.0</td>\n",
       "    </tr>\n",
       "    <tr>\n",
       "      <th>3</th>\n",
       "      <td>2015-01-04</td>\n",
       "      <td>23,98</td>\n",
       "      <td>21,5</td>\n",
       "      <td>28,6</td>\n",
       "      <td>1,2</td>\n",
       "      <td>1.0</td>\n",
       "      <td>29.799</td>\n",
       "      <td>Sunday</td>\n",
       "      <td>1.0</td>\n",
       "    </tr>\n",
       "    <tr>\n",
       "      <th>4</th>\n",
       "      <td>2015-01-05</td>\n",
       "      <td>23,82</td>\n",
       "      <td>21</td>\n",
       "      <td>28,3</td>\n",
       "      <td>0</td>\n",
       "      <td>0.0</td>\n",
       "      <td>28.900</td>\n",
       "      <td>Monday</td>\n",
       "      <td>1.0</td>\n",
       "    </tr>\n",
       "    <tr>\n",
       "      <th>...</th>\n",
       "      <td>...</td>\n",
       "      <td>...</td>\n",
       "      <td>...</td>\n",
       "      <td>...</td>\n",
       "      <td>...</td>\n",
       "      <td>...</td>\n",
       "      <td>...</td>\n",
       "      <td>...</td>\n",
       "      <td>...</td>\n",
       "    </tr>\n",
       "    <tr>\n",
       "      <th>936</th>\n",
       "      <td>NaT</td>\n",
       "      <td>NaN</td>\n",
       "      <td>NaN</td>\n",
       "      <td>NaN</td>\n",
       "      <td>NaN</td>\n",
       "      <td>NaN</td>\n",
       "      <td>NaN</td>\n",
       "      <td>NaN</td>\n",
       "      <td>NaN</td>\n",
       "    </tr>\n",
       "    <tr>\n",
       "      <th>937</th>\n",
       "      <td>NaT</td>\n",
       "      <td>NaN</td>\n",
       "      <td>NaN</td>\n",
       "      <td>NaN</td>\n",
       "      <td>NaN</td>\n",
       "      <td>NaN</td>\n",
       "      <td>NaN</td>\n",
       "      <td>NaN</td>\n",
       "      <td>NaN</td>\n",
       "    </tr>\n",
       "    <tr>\n",
       "      <th>938</th>\n",
       "      <td>NaT</td>\n",
       "      <td>NaN</td>\n",
       "      <td>NaN</td>\n",
       "      <td>NaN</td>\n",
       "      <td>NaN</td>\n",
       "      <td>NaN</td>\n",
       "      <td>NaN</td>\n",
       "      <td>NaN</td>\n",
       "      <td>NaN</td>\n",
       "    </tr>\n",
       "    <tr>\n",
       "      <th>939</th>\n",
       "      <td>NaT</td>\n",
       "      <td>NaN</td>\n",
       "      <td>NaN</td>\n",
       "      <td>NaN</td>\n",
       "      <td>NaN</td>\n",
       "      <td>NaN</td>\n",
       "      <td>NaN</td>\n",
       "      <td>NaN</td>\n",
       "      <td>NaN</td>\n",
       "    </tr>\n",
       "    <tr>\n",
       "      <th>940</th>\n",
       "      <td>NaT</td>\n",
       "      <td>NaN</td>\n",
       "      <td>NaN</td>\n",
       "      <td>NaN</td>\n",
       "      <td>NaN</td>\n",
       "      <td>NaN</td>\n",
       "      <td>NaN</td>\n",
       "      <td>NaN</td>\n",
       "      <td>NaN</td>\n",
       "    </tr>\n",
       "  </tbody>\n",
       "</table>\n",
       "<p>941 rows × 9 columns</p>\n",
       "</div>"
      ],
      "text/plain": [
       "          Data Temperatura Media (C) Temperatura Minima (C)  \\\n",
       "0   2015-01-01                  27,3                   23,9   \n",
       "1   2015-01-02                 27,02                   24,5   \n",
       "2   2015-01-03                 24,82                   22,4   \n",
       "3   2015-01-04                 23,98                   21,5   \n",
       "4   2015-01-05                 23,82                     21   \n",
       "..         ...                   ...                    ...   \n",
       "936        NaT                   NaN                    NaN   \n",
       "937        NaT                   NaN                    NaN   \n",
       "938        NaT                   NaN                    NaN   \n",
       "939        NaT                   NaN                    NaN   \n",
       "940        NaT                   NaN                    NaN   \n",
       "\n",
       "    Temperatura Maxima (C) Precipitacao (mm)  Final de Semana  \\\n",
       "0                     32,5                 0              0.0   \n",
       "1                     33,5                 0              0.0   \n",
       "2                     29,9                 0              1.0   \n",
       "3                     28,6               1,2              1.0   \n",
       "4                     28,3                 0              0.0   \n",
       "..                     ...               ...              ...   \n",
       "936                    NaN               NaN              NaN   \n",
       "937                    NaN               NaN              NaN   \n",
       "938                    NaN               NaN              NaN   \n",
       "939                    NaN               NaN              NaN   \n",
       "940                    NaN               NaN              NaN   \n",
       "\n",
       "     Consumo de cerveja (litros) Dia da Semana  Mês  \n",
       "0                         25.461      Thursday  1.0  \n",
       "1                         28.972        Friday  1.0  \n",
       "2                         30.814      Saturday  1.0  \n",
       "3                         29.799        Sunday  1.0  \n",
       "4                         28.900        Monday  1.0  \n",
       "..                           ...           ...  ...  \n",
       "936                          NaN           NaN  NaN  \n",
       "937                          NaN           NaN  NaN  \n",
       "938                          NaN           NaN  NaN  \n",
       "939                          NaN           NaN  NaN  \n",
       "940                          NaN           NaN  NaN  \n",
       "\n",
       "[941 rows x 9 columns]"
      ]
     },
     "execution_count": 72,
     "metadata": {},
     "output_type": "execute_result"
    }
   ],
   "source": [
    "file"
   ]
  },
  {
   "cell_type": "markdown",
   "id": "leading-brick",
   "metadata": {},
   "source": [
    "<h1>Media"
   ]
  },
  {
   "cell_type": "code",
   "execution_count": 10,
   "id": "equipped-target",
   "metadata": {},
   "outputs": [
    {
     "name": "stdout",
     "output_type": "stream",
     "text": [
      "Média de Consumo de cerveja em litros:  25.40136712328767\n"
     ]
    }
   ],
   "source": [
    "print(\"Média de Consumo de cerveja em litros: \", file[\"Consumo de cerveja (litros)\"].mean())"
   ]
  },
  {
   "cell_type": "code",
   "execution_count": 32,
   "id": "demanding-horse",
   "metadata": {},
   "outputs": [
    {
     "name": "stdout",
     "output_type": "stream",
     "text": [
      "Média de consumo durante a semana:  23.99822222222222\n",
      "Média de consumo de cerveja em fins de semana:  28.92272115384615\n"
     ]
    }
   ],
   "source": [
    "query1 = file.loc[file[\"Final de Semana\"] == 1.0][\"Consumo de cerveja (litros)\"].mean()\n",
    "query2 = file.loc[file[\"Final de Semana\"] == 0.0][\"Consumo de cerveja (litros)\"].mean()\n",
    "print(\"Média de consumo durante a semana: \", query2)\n",
    "\n",
    "print(\"Média de consumo de cerveja em fins de semana: \", query1)\n"
   ]
  },
  {
   "cell_type": "code",
   "execution_count": 33,
   "id": "through-journey",
   "metadata": {},
   "outputs": [],
   "source": [
    "medSegunda = file.loc[file[\"Dia da Semana\"] == \"Monday\"][\"Consumo de cerveja (litros)\"].mean()\n",
    "\n",
    "medTerca = file.loc[file[\"Dia da Semana\"] == \"Tuesday\"][\"Consumo de cerveja (litros)\"].mean()\n",
    "\n",
    "medQuarta = file.loc[file[\"Dia da Semana\"] == \"Wednesday\"][\"Consumo de cerveja (litros)\"].mean()\n",
    "\n",
    "medQuinta = file.loc[file[\"Dia da Semana\"] == \"Thursday\"][\"Consumo de cerveja (litros)\"].mean()\n",
    "\n",
    "medSexta = file.loc[file[\"Dia da Semana\"] == \"Friday\"][\"Consumo de cerveja (litros)\"].mean()\n",
    "\n",
    "medSabado = file.loc[file[\"Dia da Semana\"] == \"Saturday\"][\"Consumo de cerveja (litros)\"].mean()\n",
    "\n",
    "medDomingo = file.loc[file[\"Dia da Semana\"] == \"Sunday\"][\"Consumo de cerveja (litros)\"].mean()\n"
   ]
  },
  {
   "cell_type": "code",
   "execution_count": 34,
   "id": "dense-appraisal",
   "metadata": {},
   "outputs": [],
   "source": [
    "diaDaSemana = [\"Segunda\", \"Terça\", \"Quarta\", \"Quinta\", \"Sexta\", \"Sábado\", \"Domingo\"]\n",
    "media = [medSegunda, medTerca, medQuarta, medQuinta, medSexta, medSabado, medDomingo]\n"
   ]
  },
  {
   "cell_type": "code",
   "execution_count": 37,
   "id": "charitable-reverse",
   "metadata": {},
   "outputs": [
    {
     "data": {
      "image/png": "[encoded data removed]",
      "text/plain": [
       "<Figure size 432x288 with 1 Axes>"
      ]
     },
     "metadata": {
      "needs_background": "light"
     },
     "output_type": "display_data"
    }
   ],
   "source": [
    "plot.bar(diaDaSemana, media, color=\"orange\")\n",
    "plot.xticks(diaDaSemana)\n",
    "plot.ylabel(\"Média de litros consumidos\")\n",
    "plot.xlabel(\"Dia da Semana\")\n",
    "plot.title(\"Consumo Médio de Cerveja por Dias da Semana\")\n",
    "plot.show()"
   ]
  },
  {
   "cell_type": "code",
   "execution_count": 89,
   "id": "affiliated-theorem",
   "metadata": {},
   "outputs": [],
   "source": [
    "medPrimeiroTri = file.loc[file[\"Mês\"] <= 3][\"Consumo de cerveja (litros)\"].mean()\n",
    "medSegundoTri = file.loc[(file[\"Mês\"] >3) & (file[\"Mês\"] <= 6)][\"Consumo de cerveja (litros)\"].mean()\n",
    "medTerceiroTri = file.loc[(file[\"Mês\"] >6) & (file[\"Mês\"] <= 9)][\"Consumo de cerveja (litros)\"].mean()\n",
    "medQuartoTri = file.loc[(file[\"Mês\"] >9) & (file[\"Mês\"] <= 12)][\"Consumo de cerveja (litros)\"].mean()\n",
    "\n",
    "trimestre = [\"Jan-Mar\", \"Abr-Jun\", \"Jul-Set\", \"Out-Dez\"]\n",
    "mediaTri = [medPrimeiroTri, medSegundoTri, medTerceiroTri, medQuartoTri]\n",
    "\n",
    "\n",
    "\n",
    "\n"
   ]
  },
  {
   "cell_type": "code",
   "execution_count": 90,
   "id": "proved-foundation",
   "metadata": {},
   "outputs": [
    {
     "data": {
      "image/png": "[encoded data removed]",
      "text/plain": [
       "<Figure size 432x288 with 1 Axes>"
      ]
     },
     "metadata": {
      "needs_background": "light"
     },
     "output_type": "display_data"
    }
   ],
   "source": [
    "plot.bar(trimestre, mediaTri, color=\"orange\")\n",
    "plot.xticks(trimestre)\n",
    "plot.ylabel(\"Média de litros consumidos\")\n",
    "plot.xlabel(\"Trimestre\")\n",
    "plot.title(\"Consumo Médio de Cerveja por Trimestre\")\n",
    "plot.show()"
   ]
  },
  {
   "cell_type": "markdown",
   "id": "fixed-booth",
   "metadata": {},
   "source": [
    "<h1>Mediana"
   ]
  },
  {
   "cell_type": "code",
   "execution_count": 49,
   "id": "suitable-paradise",
   "metadata": {},
   "outputs": [
    {
     "name": "stdout",
     "output_type": "stream",
     "text": [
      "Mediana total: 24.866999999999997\n",
      "Mediana de consumo durante a semana:  23.614\n",
      "Mediana de consumo de cerveja em fins de semana:  29.4825\n"
     ]
    }
   ],
   "source": [
    "query1 = file.loc[file[\"Final de Semana\"] == 1.0][\"Consumo de cerveja (litros)\"].median()\n",
    "query2 = file.loc[file[\"Final de Semana\"] == 0.0][\"Consumo de cerveja (litros)\"].median()\n",
    "\n",
    "print(\"Mediana geral:\", file[\"Consumo de cerveja (litros)\"].median())\n",
    "\n",
    "print(\"Mediana de consumo durante a semana: \", query2)\n",
    "\n",
    "print(\"Mediana de consumo de cerveja em fins de semana: \", query1)"
   ]
  },
  {
   "cell_type": "code",
   "execution_count": 92,
   "id": "manual-vietnam",
   "metadata": {},
   "outputs": [
    {
     "name": "stdout",
     "output_type": "stream",
     "text": [
      "Mediana por trimestre: \n",
      "Primeiro Trimestre:  25.985500000000002\n",
      "Segundo Trimestre:  23.055\n",
      "Terceiro Trimestre:  24.0255\n",
      "Quarto Trimestre:  26.832\n"
     ]
    }
   ],
   "source": [
    "print(\"Mediana por trimestre: \")\n",
    "print(\"Primeiro Trimestre: \", file.loc[file[\"Mês\"] <= 3][\"Consumo de cerveja (litros)\"].median())\n",
    "print(\"Segundo Trimestre: \", file.loc[(file[\"Mês\"] >3) & (file[\"Mês\"] <= 6)][\"Consumo de cerveja (litros)\"].median())\n",
    "print(\"Terceiro Trimestre: \", file.loc[(file[\"Mês\"] >6) & (file[\"Mês\"] <= 9)][\"Consumo de cerveja (litros)\"].median())\n",
    "print(\"Quarto Trimestre: \", file.loc[(file[\"Mês\"] >9) & (file[\"Mês\"] <= 12)][\"Consumo de cerveja (litros)\"].median())"
   ]
  },
  {
   "cell_type": "markdown",
   "id": "acceptable-reduction",
   "metadata": {},
   "source": [
    "<h1> Variância e Desvio Padrão no Consumo de Litros de Cerveja"
   ]
  },
  {
   "cell_type": "code",
   "execution_count": 40,
   "id": "featured-jamaica",
   "metadata": {},
   "outputs": [
    {
     "name": "stdout",
     "output_type": "stream",
     "text": [
      "Variância:  19.352456524190877\n",
      "Desvio Padrão:  4.399142703321964\n"
     ]
    }
   ],
   "source": [
    "print(\"Variância: \", file[\"Consumo de cerveja (litros)\"].var())\n",
    "print(\"Desvio Padrão: \", file[\"Consumo de cerveja (litros)\"].std())"
   ]
  },
  {
   "cell_type": "code",
   "execution_count": 43,
   "id": "surrounded-delivery",
   "metadata": {},
   "outputs": [
    {
     "name": "stdout",
     "output_type": "stream",
     "text": [
      "Desvio Padrão(Semana):  3.830190842812366\n",
      "Desvio Padrão(Fim de Semana):  3.787526525477621\n"
     ]
    }
   ],
   "source": [
    "desvio1 = file.loc[file[\"Final de Semana\"] == 1.0][\"Consumo de cerveja (litros)\"].std()\n",
    "desvio2 = file.loc[file[\"Final de Semana\"] == 0.0][\"Consumo de cerveja (litros)\"].std()\n",
    "\n",
    "print(\"Desvio Padrão(Semana): \", desvio1)\n",
    "print(\"Desvio Padrão(Fim de Semana): \", desvio2)"
   ]
  },
  {
   "cell_type": "markdown",
   "id": "reflected-suspect",
   "metadata": {},
   "source": [
    "<h1> Boxplot"
   ]
  },
  {
   "cell_type": "code",
   "execution_count": 44,
   "id": "wrong-blend",
   "metadata": {},
   "outputs": [
    {
     "data": {
      "text/plain": [
       "count    365.000000\n",
       "mean      25.401367\n",
       "std        4.399143\n",
       "min       14.343000\n",
       "25%       22.008000\n",
       "50%       24.867000\n",
       "75%       28.631000\n",
       "max       37.937000\n",
       "Name: Consumo de cerveja (litros), dtype: float64"
      ]
     },
     "execution_count": 44,
     "metadata": {},
     "output_type": "execute_result"
    }
   ],
   "source": [
    "file[\"Consumo de cerveja (litros)\"].describe()"
   ]
  },
  {
   "cell_type": "code",
   "execution_count": 48,
   "id": "terminal-silicon",
   "metadata": {},
   "outputs": [
    {
     "data": {
      "text/plain": [
       "<matplotlib.axes._subplots.AxesSubplot at 0x7ff59372e410>"
      ]
     },
     "execution_count": 48,
     "metadata": {},
     "output_type": "execute_result"
    },
    {
     "data": {
      "image/png": "[encoded data removed]",
      "text/plain": [
       "<Figure size 1440x1440 with 1 Axes>"
      ]
     },
     "metadata": {
      "needs_background": "light"
     },
     "output_type": "display_data"
    }
   ],
   "source": [
    "file.boxplot(column = [\"Consumo de cerveja (litros)\"], fontsize = \"large\", figsize = (20,20))"
   ]
  },
  {
   "cell_type": "code",
   "execution_count": null,
   "id": "innocent-bosnia",
   "metadata": {},
   "outputs": [],
   "source": []
  }
 ],
 "metadata": {
  "kernelspec": {
   "display_name": "Python 3",
   "language": "python",
   "name": "python3"
  },
  "language_info": {
   "codemirror_mode": {
    "name": "ipython",
    "version": 3
   },
   "file_extension": ".py",
   "mimetype": "text/x-python",
   "name": "python",
   "nbconvert_exporter": "python",
   "pygments_lexer": "ipython3",
   "version": "3.7.10"
  }
 },
 "nbformat": 4,
 "nbformat_minor": 5
}
